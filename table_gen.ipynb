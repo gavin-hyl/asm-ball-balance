{
 "cells": [
  {
   "cell_type": "code",
   "execution_count": 3,
   "metadata": {},
   "outputs": [
    {
     "name": "stdout",
     "output_type": "stream",
     "text": [
      "\t.db\t261 / 2,\t10\n",
      "\t.db\t330 / 2,\t10\n",
      "\t.db\t391 / 2,\t10\n",
      "\t.db\t330 / 2,\t10\n",
      "\t.db\t261 / 2,\t10\n"
     ]
    }
   ],
   "source": [
    "notes = [\n",
    "    (261, 10),\n",
    "    (330, 10),\n",
    "    (391, 10),\n",
    "    (330, 10),\n",
    "    (261, 10),\n",
    "]\n",
    "\n",
    "\n",
    "\n",
    "for note in notes:\n",
    "    print(f\"\\t.db\\t{int(note[0])} / 2,\\t{note[1]}\")"
   ]
  }
 ],
 "metadata": {
  "kernelspec": {
   "display_name": "Python 3",
   "language": "python",
   "name": "python3"
  },
  "language_info": {
   "codemirror_mode": {
    "name": "ipython",
    "version": 3
   },
   "file_extension": ".py",
   "mimetype": "text/x-python",
   "name": "python",
   "nbconvert_exporter": "python",
   "pygments_lexer": "ipython3",
   "version": "3.11.2"
  }
 },
 "nbformat": 4,
 "nbformat_minor": 2
}
