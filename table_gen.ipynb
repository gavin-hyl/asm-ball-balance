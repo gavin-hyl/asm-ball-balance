{
 "cells": [
  {
   "cell_type": "code",
   "execution_count": 1,
   "metadata": {},
   "outputs": [
    {
     "name": "stdout",
     "output_type": "stream",
     "text": [
      ".DB\t100, 1\n",
      ".DB\t200, 2\n",
      ".DB\t300, 1\n"
     ]
    }
   ],
   "source": [
    "import numpy as np\n",
    "\n",
    "notes = [\n",
    "    (100, 1),\n",
    "    (200, 2),\n",
    "    (300, 1),\n",
    "]\n",
    "\n",
    "\n",
    "for note in notes:\n",
    "    print(f\"\\t.DB\\t{note[0]}, {note[1]}\")"
   ]
  }
 ],
 "metadata": {
  "kernelspec": {
   "display_name": "Python 3",
   "language": "python",
   "name": "python3"
  },
  "language_info": {
   "codemirror_mode": {
    "name": "ipython",
    "version": 3
   },
   "file_extension": ".py",
   "mimetype": "text/x-python",
   "name": "python",
   "nbconvert_exporter": "python",
   "pygments_lexer": "ipython3",
   "version": "3.11.2"
  }
 },
 "nbformat": 4,
 "nbformat_minor": 2
}
